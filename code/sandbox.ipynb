{
 "cells": [
  {
   "cell_type": "code",
   "execution_count": 1,
   "metadata": {},
   "outputs": [],
   "source": [
    "from datasets import load_data, aggregate\n",
    "import matplotlib.pyplot as plt \n",
    "import pandas as pd \n",
    "import settings\n",
    "import os\n",
    "import pickle\n",
    "import timeit \n",
    "import dask.dataframe as dd\n",
    "\n",
    "BASEDIR = os.path.join(os.getcwd(), '..', 'data', 'clean', 'all-data.pkl')\n",
    "file = open(BASEDIR, 'rb')"
   ]
  },
  {
   "cell_type": "code",
   "execution_count": null,
   "metadata": {},
   "outputs": [],
   "source": [
    "start = timeit.timeit()\n",
    "df = pd.DataFrame(pickle.load(file))\n",
    "aggdf = df.groupby(['year', 'state']).agg({'payment': 'sum'})\n",
    "end = timeit.timeit()\n",
    "print(aggdf.head())\n",
    "print(\"{:.2f}\".format(end - start))"
   ]
  },
  {
   "cell_type": "code",
   "execution_count": 2,
   "metadata": {},
   "outputs": [
    {
     "ename": "ValueError",
     "evalue": "Exactly one of npartitions and chunksize must be specified.",
     "output_type": "error",
     "traceback": [
      "\u001b[1;31m---------------------------------------------------------------------------\u001b[0m",
      "\u001b[1;31mValueError\u001b[0m                                Traceback (most recent call last)",
      "Cell \u001b[1;32mIn[2], line 2\u001b[0m\n\u001b[0;32m      1\u001b[0m start \u001b[39m=\u001b[39m timeit\u001b[39m.\u001b[39mtimeit()\n\u001b[1;32m----> 2\u001b[0m df \u001b[39m=\u001b[39m dd\u001b[39m.\u001b[39;49mfrom_pandas(pickle\u001b[39m.\u001b[39;49mload(file))\n\u001b[0;32m      3\u001b[0m aggdf \u001b[39m=\u001b[39m df\u001b[39m.\u001b[39mgroupby([\u001b[39m'\u001b[39m\u001b[39myear\u001b[39m\u001b[39m'\u001b[39m, \u001b[39m'\u001b[39m\u001b[39mstate\u001b[39m\u001b[39m'\u001b[39m])\u001b[39m.\u001b[39magg({\u001b[39m'\u001b[39m\u001b[39mpayment\u001b[39m\u001b[39m'\u001b[39m: \u001b[39m'\u001b[39m\u001b[39msum\u001b[39m\u001b[39m'\u001b[39m})\u001b[39m.\u001b[39mreset_index()\n\u001b[0;32m      4\u001b[0m end \u001b[39m=\u001b[39m timeit\u001b[39m.\u001b[39mtimeit()\n",
      "File \u001b[1;32mc:\\Users\\skjor\\Code\\Projects\\Ethan-GSR\\.venv\\Lib\\site-packages\\dask\\dataframe\\io\\io.py:264\u001b[0m, in \u001b[0;36mfrom_pandas\u001b[1;34m(data, npartitions, chunksize, sort, name)\u001b[0m\n\u001b[0;32m    261\u001b[0m     \u001b[39mraise\u001b[39;00m \u001b[39mTypeError\u001b[39;00m(\u001b[39m\"\u001b[39m\u001b[39mInput must be a pandas DataFrame or Series.\u001b[39m\u001b[39m\"\u001b[39m)\n\u001b[0;32m    263\u001b[0m \u001b[39mif\u001b[39;00m (npartitions \u001b[39mis\u001b[39;00m \u001b[39mNone\u001b[39;00m) \u001b[39m==\u001b[39m (chunksize \u001b[39mis\u001b[39;00m \u001b[39mNone\u001b[39;00m):\n\u001b[1;32m--> 264\u001b[0m     \u001b[39mraise\u001b[39;00m \u001b[39mValueError\u001b[39;00m(\u001b[39m\"\u001b[39m\u001b[39mExactly one of npartitions and chunksize must be specified.\u001b[39m\u001b[39m\"\u001b[39m)\n\u001b[0;32m    266\u001b[0m nrows \u001b[39m=\u001b[39m \u001b[39mlen\u001b[39m(data)\n\u001b[0;32m    268\u001b[0m \u001b[39mif\u001b[39;00m chunksize \u001b[39mis\u001b[39;00m \u001b[39mNone\u001b[39;00m:\n",
      "\u001b[1;31mValueError\u001b[0m: Exactly one of npartitions and chunksize must be specified."
     ]
    }
   ],
   "source": [
    "start = timeit.timeit()\n",
    "df = dd.from_pandas(pickle.load(file))\n",
    "aggdf = df.groupby(['year', 'state']).agg({'payment': 'sum'})\n",
    "end = timeit.timeit()\n",
    "print(aggdf.head())\n",
    "print(\"{:.2f}\".format(end - start))"
   ]
  },
  {
   "cell_type": "code",
   "execution_count": null,
   "metadata": {},
   "outputs": [],
   "source": [
    "summarytable = aggdf.groupby(['year']).apply(lambda x: x.nlargest(5, 'payment'))\n",
    "summarytable.drop(columns='year', inplace=True)\n",
    "summarytable.index = summarytable.index.droplevel(level=1)\n",
    "summarytable.set_index('state', append=True, inplace=True)\n",
    "summarytable\n",
    "# # summarytable['payment'] = summarytable['payment'].apply(lambda x: \"${:,.2f}M\".format((x/1000000)))\n",
    "# summarytable = summarytable.merge(cnty_state_crswlk, how='left')\n",
    "# # summarytable.drop(columns=['year'], inplace=True) \n",
    "# summarytable.set_index('year', inplace=True)\n",
    "# summarytable.drop(columns=['FIP'], inplace=True)\n",
    "# summarytable.rename(columns = {'cntyState': 'County'}, inplace=True)\n",
    "# summarytable.set_index('County', append=True, inplace=True)\n",
    "# print(summarytable)\n",
    "# summarytable.join(df, by=)\n",
    "# fname = 'test_file.tex'\n",
    "# file = os.path.join(os.getcwd(), '..', 'output', 'tables', fname)\n",
    "# # summarytable.to_latex(float_format=lambda x: \"\\$ {:,.2f} M\".format(x/1000000))\n",
    "\n",
    "# with open(file, 'w') as f: \n",
    "#     f.write(summarytable.to_latex(\n",
    "#         float_format=lambda x: \"\\$ {:,.2f} M\".format(x/1000000)\n",
    "#     ))"
   ]
  },
  {
   "cell_type": "code",
   "execution_count": null,
   "metadata": {},
   "outputs": [],
   "source": [
    "test = df.drop_duplicates(subset=['FIP'])[['FIP', 'county', 'state']]\n",
    "\n",
    "test['cntyState'] = test.apply(lambda x: f\"{x['county']}, {x['state']}\", axis=1)\n",
    "test.drop(columns=['county','state'], inplace=True)\n",
    "test"
   ]
  }
 ],
 "metadata": {
  "kernelspec": {
   "display_name": ".venv",
   "language": "python",
   "name": "python3"
  },
  "language_info": {
   "codemirror_mode": {
    "name": "ipython",
    "version": 3
   },
   "file_extension": ".py",
   "mimetype": "text/x-python",
   "name": "python",
   "nbconvert_exporter": "python",
   "pygments_lexer": "ipython3",
   "version": "3.11.4"
  },
  "orig_nbformat": 4
 },
 "nbformat": 4,
 "nbformat_minor": 2
}
